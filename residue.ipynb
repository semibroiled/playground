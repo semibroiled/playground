{
 "cells": [
  {
   "cell_type": "code",
   "execution_count": 1,
   "metadata": {},
   "outputs": [
    {
     "name": "stderr",
     "output_type": "stream",
     "text": [
      "2023-07-08 02:03:14,880 - INFO - Starting Application\n"
     ]
    }
   ],
   "source": [
    "import logging\n",
    "import sys\n",
    "import os\n",
    "\n",
    "# Set Instance of Logging for file\n",
    "log = logging.getLogger(__name__)\n",
    "\n",
    "# Set Formatter\n",
    "formatter = logging.Formatter(\"%(asctime)s - %(levelname)s - %(message)s\", \"\", \"%\")\n",
    "\n",
    "# Set Stream Handler instance and add formatter\n",
    "# This outputs text to the terminal\n",
    "sh = logging.StreamHandler()\n",
    "sh.setFormatter(formatter)\n",
    "log.addHandler(sh)\n",
    "\n",
    "# log.addHandler(logging.StreamHandler())\n",
    "\n",
    "# Set Filehandler instance and formatter\n",
    "# This creates a file where the logged data is stored\n",
    "# By default, mode is a, encoding is None, delay is False\n",
    "\n",
    "fh = logging.FileHandler(\"logging.txt\")\n",
    "fh.setFormatter(formatter)\n",
    "log.addHandler(fh)\n",
    "# fh = log.addHandler(logging.FileHandler(\"logging.txt\"))\n",
    "log.setLevel(logging.DEBUG)\n",
    "\n",
    "\n",
    "if __name__ == \"__main__\":\n",
    "    log.info(\"Starting Application\")\n",
    "    pass\n"
   ]
  },
  {
   "cell_type": "code",
   "execution_count": 2,
   "metadata": {},
   "outputs": [
    {
     "name": "stderr",
     "output_type": "stream",
     "text": [
      "2023-07-08 02:18:39,007 - INFO - User said ...\n",
      "Starting Application\n"
     ]
    }
   ],
   "source": [
    "import logging\n",
    "import sys\n",
    "import os\n",
    "\n",
    "# Set Instance of Logging for file\n",
    "log = logging.getLogger(__name__)\n",
    "\n",
    "# Logging Configuration\n",
    "\n",
    "\n",
    "logging.basicConfig(\n",
    "    # Set Logging Level\n",
    "    level=logging.DEBUG,\n",
    "    # Set filename\n",
    "    filename=\"data.log\",\n",
    "    #filename=\"logging.txt\",\n",
    "    # Set filemode\n",
    "    filemode=\"a\",\n",
    "    # Set formatter\n",
    "    format=\"%(asctime)s - %(name)s - %(levelname)s - %(message)s\",\n",
    "    datefmt=\"%d/%m/%Y %H:%M:%S\",\n",
    ")\n",
    "\n",
    "\n",
    "if __name__ == \"__main__\":\n",
    "    start_process = input(\"Do you want to proceed running this application?\")\n",
    "    log.info(f\"User said {start_process}...\\nStarting Application\")\n",
    "    pass\n"
   ]
  },
  {
   "cell_type": "markdown",
   "metadata": {},
   "source": [
    "Note to self\n",
    "having two basic cconfigs didnt work out\n",
    "just one was working\n",
    "\n",
    "handlers offer more fine tuning\n",
    "able to run log file as well as terminal outputs\n"
   ]
  },
  {
   "cell_type": "markdown",
   "metadata": {},
   "source": [
    "import pytest\n",
    "from typing import Tuple, List\n",
    "import sys\n",
    "import os\n",
    "\n",
    "root_directory = os.path.abspath(os.path.join(os.path.dirname(__file__), \"..\"))\n",
    "\n",
    "sys.path.append(root_directory)\n",
    "\n",
    "from fibonacci import fibonacci\n",
    "\n",
    "\n",
    "def test_def():\n",
    "    assert type(5) is int\n",
    "    assert 6 == 2\n",
    "    print(\n",
    "        \"\"\"First test should return true;\n",
    "          Second test should return false\"\"\"\n",
    "    )\n",
    "\n",
    "\n",
    "# Generate Test Data\n",
    "def get_test_fibonacci_data() -> List[Tuple[int, int, int]]:\n",
    "    return [(10_000, -1, 10_946)]\n",
    "\n",
    "\n",
    "# Fibonacci function tests\n",
    "@pytest.mark.parametrize(\"num1, num2, expected\", get_test_fibonacci_data())\n",
    "def test_fibonacci(num1, num2, expected):\n",
    "    assert fibonacci(num1)[num2] == expected\n",
    "    assert len(fibonacci(num1)) == 22\n",
    "\n",
    "\n",
    "def test_fibonacci_output_type():\n",
    "    assert type(fibonacci(10)) is list"
   ]
  },
  {
   "cell_type": "code",
   "execution_count": null,
   "metadata": {},
   "outputs": [],
   "source": []
  },
  {
   "cell_type": "code",
   "execution_count": null,
   "metadata": {},
   "outputs": [],
   "source": [
    "import pytest\n",
    "from typing import Tuple, List\n",
    "import sys\n",
    "import os\n",
    "\n",
    "root_directory = os.path.abspath(os.path.join(os.path.dirname(__file__), \"..\"))\n",
    "\n",
    "sys.path.append(root_directory)\n",
    "\n",
    "from fibonacci import fibonacci\n",
    "\n",
    "\n",
    "def test_def():\n",
    "    assert type(5) is int\n",
    "    assert 6 == 2\n",
    "    print(\n",
    "        \"\"\"First test should return true;\n",
    "          Second test should return false\"\"\"\n",
    "    )\n",
    "\n",
    "\n",
    "# Generate Test Data\n",
    "def get_test_fibonacci_data() -> List[Tuple[int, int, int]]:\n",
    "    return [(10_000, -1, 10_946)]\n",
    "\n",
    "\n",
    "# Fibonacci function tests\n",
    "@pytest.mark.parametrize(\"num1, num2, expected\", get_test_fibonacci_data())\n",
    "def test_fibonacci(num1, num2, expected):\n",
    "    assert fibonacci(num1)[num2] == expected\n",
    "    assert len(fibonacci(num1)) == 22\n",
    "\n",
    "\n",
    "def test_fibonacci_output_type():\n",
    "    assert type(fibonacci(10)) is list\n"
   ]
  },
  {
   "cell_type": "markdown",
   "metadata": {},
   "source": []
  }
 ],
 "metadata": {
  "kernelspec": {
   "display_name": ".venv",
   "language": "python",
   "name": "python3"
  },
  "language_info": {
   "codemirror_mode": {
    "name": "ipython",
    "version": 3
   },
   "file_extension": ".py",
   "mimetype": "text/x-python",
   "name": "python",
   "nbconvert_exporter": "python",
   "pygments_lexer": "ipython3",
   "version": "3.11.3"
  },
  "orig_nbformat": 4
 },
 "nbformat": 4,
 "nbformat_minor": 2
}
